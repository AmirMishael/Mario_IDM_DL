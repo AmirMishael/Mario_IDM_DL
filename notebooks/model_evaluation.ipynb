{
 "cells": [
  {
   "cell_type": "code",
   "execution_count": null,
   "metadata": {},
   "outputs": [],
   "source": [
    "!git clone https://github.com/AmirMishael/Mario_IDM_DL.git ./tmp_git\n",
    "!cp -r ./tmp_git/* ./\n",
    "!rm -rf ./tmp_git\n",
    "!chmod 777 ./download_data.bash\n",
    "!./download_data.bash"
   ]
  },
  {
   "cell_type": "code",
   "execution_count": null,
   "metadata": {},
   "outputs": [],
   "source": [
    "from google.colab import drive\n",
    "\n",
    "drive.mount(\"/content/gdrive\")\n",
    "\n",
    "modles_path = \"./gdrive/MyDrive/models\""
   ]
  },
  {
   "cell_type": "code",
   "execution_count": null,
   "metadata": {},
   "outputs": [],
   "source": [
    "import torch\n",
    "import torchvision\n",
    "import os\n",
    "from torch.utils.data import Dataset\n",
    "from PIL import Image\n",
    "from tqdm import tqdm\n",
    "import pathlib\n",
    "from helper_code.eval_model import hist_correct_world_level\n",
    "from helper_code.resnet_model import ResnetModel\n",
    "\n",
    "device = torch.device(\"cuda:0\" if torch.cuda.is_available() else \"cpu\")\n",
    "torch.manual_seed(17)\n",
    "model = ResnetModel(group_size=3,use_color=False,use_pretrained=False).to(device)\n",
    "model.load_state_dict(torch.load(os.path.join(modles_path,\"checkpoint_4_3000.pt\")))\n",
    "hist_correct_world_level(models_dir=modles_path)"
   ]
  }
 ],
 "metadata": {
  "language_info": {
   "name": "python"
  },
  "orig_nbformat": 4
 },
 "nbformat": 4,
 "nbformat_minor": 2
}
