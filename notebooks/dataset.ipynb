{
 "cells": [
  {
   "cell_type": "code",
   "execution_count": 11,
   "metadata": {},
   "outputs": [
    {
     "name": "stdout",
     "output_type": "stream",
     "text": [
      "cuda:0\n",
      "loading dataset preload:False\n",
      "tensor([0., 0., 0., 0., 0., 0., 0., 0.])\n"
     ]
    },
    {
     "data": {
      "image/png": "[encoded data removed]",
      "text/plain": [
       "<PIL.Image.Image image mode=L size=256x240>"
      ]
     },
     "metadata": {},
     "output_type": "display_data"
    },
    {
     "name": "stdout",
     "output_type": "stream",
     "text": [
      "tensor([[[0.5608, 0.5608, 0.5608,  ..., 0.5608, 0.5608, 0.5608],\n",
      "         [0.5608, 0.5608, 0.5608,  ..., 0.5608, 0.5608, 0.5608],\n",
      "         [0.5608, 0.5608, 0.5608,  ..., 0.5608, 0.5608, 0.5608],\n",
      "         ...,\n",
      "         [0.8078, 0.4157, 0.4157,  ..., 0.4157, 0.3490, 0.0000],\n",
      "         [0.7725, 0.3765, 0.3765,  ..., 0.3765, 0.0000, 0.0392],\n",
      "         [0.4157, 0.0000, 0.0000,  ..., 0.0000, 0.0000, 0.4157]]])\n",
      "tensor([0., 0., 0., 0., 0., 0., 0., 0.])\n"
     ]
    },
    {
     "data": {
      "image/png": "[encoded data removed]",
      "text/plain": [
       "<PIL.Image.Image image mode=L size=256x240>"
      ]
     },
     "metadata": {},
     "output_type": "display_data"
    },
    {
     "name": "stdout",
     "output_type": "stream",
     "text": [
      "tensor([[[0.5608, 0.5608, 0.5608,  ..., 0.5608, 0.5608, 0.5608],\n",
      "         [0.5608, 0.5608, 0.5608,  ..., 0.5608, 0.5608, 0.5608],\n",
      "         [0.5608, 0.5608, 0.5608,  ..., 0.5608, 0.5608, 0.5608],\n",
      "         ...,\n",
      "         [0.8078, 0.4157, 0.4157,  ..., 0.4157, 0.3490, 0.0000],\n",
      "         [0.7725, 0.3765, 0.3765,  ..., 0.3765, 0.0000, 0.0392],\n",
      "         [0.4157, 0.0000, 0.0000,  ..., 0.0000, 0.0000, 0.4157]]])\n",
      "tensor([0., 0., 0., 0., 0., 0., 0., 0.])\n"
     ]
    },
    {
     "data": {
      "image/png": "[encoded data removed]",
      "text/plain": [
       "<PIL.Image.Image image mode=L size=256x240>"
      ]
     },
     "metadata": {},
     "output_type": "display_data"
    },
    {
     "name": "stdout",
     "output_type": "stream",
     "text": [
      "tensor([[[0.5608, 0.5608, 0.5608,  ..., 0.5608, 0.5608, 0.5608],\n",
      "         [0.5608, 0.5608, 0.5608,  ..., 0.5608, 0.5608, 0.5608],\n",
      "         [0.5608, 0.5608, 0.5608,  ..., 0.5608, 0.5608, 0.5608],\n",
      "         ...,\n",
      "         [0.8078, 0.4157, 0.4157,  ..., 0.4157, 0.3490, 0.0000],\n",
      "         [0.7725, 0.3765, 0.3765,  ..., 0.3765, 0.0000, 0.0392],\n",
      "         [0.4157, 0.0000, 0.0000,  ..., 0.0000, 0.0000, 0.4157]]])\n"
     ]
    }
   ],
   "source": [
    "import pathlib\n",
    "import torch\n",
    "import torchvision\n",
    "import os\n",
    "from PIL import Image\n",
    "from tqdm import tqdm\n",
    "from IPython.display import display # to display images\n",
    "import sys\n",
    "\n",
    "sys.path.append(\"../\")\n",
    "from helper_code.mario_buttons_dataset import MarioEpisode\n",
    "\n",
    "\n",
    "device = torch.device(\"cuda:0\" if torch.cuda.is_available() else \"cpu\")\n",
    "print(device)\n",
    "torch.manual_seed(17)\n",
    "\n",
    "\n",
    "batch_size = 128\n",
    "learning_rate = 1e-3\n",
    "epochs = 7\n",
    "    \n",
    "group = 1#3\n",
    "use_color = False\n",
    "\n",
    "preload=False\n",
    "\n",
    "\n",
    "print(f\"loading dataset preload:{preload}\")\n",
    "\n",
    "transforms = torchvision.transforms.Compose([\n",
    "        torchvision.transforms.Resize((256,256)),\n",
    "        torchvision.transforms.ToTensor(),\n",
    "        \n",
    "        #transforms.Normalize((0.485, 0.456, 0.406), (0.229, 0.224, 0.225)),\n",
    "])\n",
    "\n",
    "mario_epsode = MarioEpisode('../mario_dataset/Rafael_hwfrb471_e3_8-3_win/',group_frames=group,use_color=use_color,transform=None,preload=False)\n",
    "\n",
    "for i in range(3):\n",
    "    print(action:=mario_epsode._extract_action(mario_epsode.file_names[i]))\n",
    "    image = mario_epsode._get_image(i)\n",
    "    display(image)\n",
    "    #tran = transforms(image)\n",
    "    #print(tran)"
   ]
  }
 ],
 "metadata": {
  "kernelspec": {
   "display_name": "deep_learn",
   "language": "python",
   "name": "python3"
  },
  "language_info": {
   "codemirror_mode": {
    "name": "ipython",
    "version": 3
   },
   "file_extension": ".py",
   "mimetype": "text/x-python",
   "name": "python",
   "nbconvert_exporter": "python",
   "pygments_lexer": "ipython3",
   "version": "3.9.16"
  },
  "orig_nbformat": 4
 },
 "nbformat": 4,
 "nbformat_minor": 2
}
