{
 "cells": [
  {
   "cell_type": "code",
   "execution_count": 6,
   "metadata": {},
   "outputs": [
    {
     "name": "stdout",
     "output_type": "stream",
     "text": [
      "cuda:0\n",
      "loading dataset preload:False\n"
     ]
    },
    {
     "name": "stderr",
     "output_type": "stream",
     "text": [
      "100%|██████████| 281/281 [01:27<00:00,  3.20it/s] "
     ]
    },
    {
     "name": "stdout",
     "output_type": "stream",
     "text": [
      "mean action :tensor([0.2000, 0.0000, 0.0900, 0.8100, 0.0000, 0.5400, 0.0000, 0.0000])\n"
     ]
    },
    {
     "name": "stderr",
     "output_type": "stream",
     "text": [
      "\n"
     ]
    }
   ],
   "source": [
    "import pathlib\n",
    "import torch\n",
    "import torchvision\n",
    "import os\n",
    "from PIL import Image\n",
    "from tqdm import tqdm\n",
    "from IPython.display import display # to display images\n",
    "import sys\n",
    "\n",
    "sys.path.append(\"../\")\n",
    "from helper_code.mario_buttons_dataset import MarioEpisode,MarioButtonsDataset\n",
    "\n",
    "\n",
    "device = torch.device(\"cuda:0\" if torch.cuda.is_available() else \"cpu\")\n",
    "print(device)\n",
    "torch.manual_seed(17)\n",
    "\n",
    "\n",
    "batch_size = 128\n",
    "learning_rate = 1e-3\n",
    "epochs = 7\n",
    "    \n",
    "group = 1#3\n",
    "use_color = False\n",
    "\n",
    "preload=False\n",
    "\n",
    "\n",
    "print(f\"loading dataset preload:{preload}\")\n",
    "\n",
    "transforms = torchvision.transforms.Compose([\n",
    "        torchvision.transforms.Resize((256,256)),\n",
    "        torchvision.transforms.ToTensor(),\n",
    "        \n",
    "        #transforms.Normalize((0.485, 0.456, 0.406), (0.229, 0.224, 0.225)),\n",
    "])\n",
    "\n",
    "#mario_epsode = MarioEpisode('../mario_dataset/Rafael_hwfrb471_e3_8-3_win/',group_frames=group,use_color=use_color,transform=transforms,preload=False)\n",
    "#mario_dataset = MarioButtonsDataset('../mario_dataset/Rafael_hwfrb471_e3_8-3_win/',group_frames=group,use_color=use_color,transform=transforms,preload=False)\n",
    "def _extract_action(file_name):\n",
    "        #print(pathlib.PurePath(file_name).name)\n",
    "        action_number = pathlib.PurePath(file_name).name.split(\"_\")[5][1:]\n",
    "        action_tensor = torch.zeros(8)\n",
    "        action_bin = str(bin(int(action_number)))[2:].zfill(8) #remove 0b in start\n",
    "        #print(action_bin)\n",
    "        for i in range(8):\n",
    "            action_tensor[i] = int(action_bin[i])\n",
    "        return action_tensor\n",
    "tot_frames = 0\n",
    "tot_action = torch.zeros(8,dtype=torch.float32)\n",
    "for ep in tqdm(os.listdir('../mario_dataset/')):\n",
    "    if not os.path.isdir(os.path.join('../mario_dataset/',ep)):\n",
    "         continue\n",
    "    for frame in os.listdir(f'../mario_dataset/{ep}/'):\n",
    "        tot_frames += 1\n",
    "        tot_action += _extract_action(frame)\n",
    "        \n",
    "tot_action = torch.round(tot_action/tot_frames,decimals=2)\n",
    "print(f\"mean action :{tot_action}\")\n"
   ]
  }
 ],
 "metadata": {
  "kernelspec": {
   "display_name": "deep_learn",
   "language": "python",
   "name": "python3"
  },
  "language_info": {
   "codemirror_mode": {
    "name": "ipython",
    "version": 3
   },
   "file_extension": ".py",
   "mimetype": "text/x-python",
   "name": "python",
   "nbconvert_exporter": "python",
   "pygments_lexer": "ipython3",
   "version": "3.9.16"
  },
  "orig_nbformat": 4
 },
 "nbformat": 4,
 "nbformat_minor": 2
}
